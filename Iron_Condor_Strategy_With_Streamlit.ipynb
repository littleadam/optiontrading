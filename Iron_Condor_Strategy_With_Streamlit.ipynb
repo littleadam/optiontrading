{
 "cells": [
  {
   "cell_type": "markdown",
   "id": "c8c98a9d",
   "metadata": {},
   "source": [
    "# Iron Condor Strategy on MStock API with Streamlit Dashboard"
   ]
  },
  {
   "cell_type": "code",
   "execution_count": null,
   "id": "83e548d5",
   "metadata": {},
   "outputs": [],
   "source": [
    "\n",
    "!pip install streamlit pandas requests --quiet\n"
   ]
  },
  {
   "cell_type": "code",
   "execution_count": null,
   "id": "617c3eef",
   "metadata": {},
   "outputs": [],
   "source": [
    "\n",
    "# config.py content\n",
    "CONFIG = {\n",
    "    \"base_url\": \"https://tradingapi.mstock.com/api/v1\",\n",
    "    \"api_key\": \"your_api_key_here\",  # Replace with your actual key\n",
    "    \"investment\": 200000,\n",
    "    \"lot_size\": 75,\n",
    "    \"lot_value\": 150000,\n",
    "    \"sell_leg_percent\": 2.5,\n",
    "    \"stoploss_percent\": 0.9,\n",
    "    \"premium_drop_trigger\": 0.75,\n",
    "    \"martingale_trigger\": 2.0,\n",
    "    \"martingale_sell_ratio\": 2,\n",
    "    \"martingale_sell_premium_ratio\": 0.5,\n",
    "    \"initial_gap_from_spot\": 1000,\n",
    "    \"max_expiry_weeks\": 5,\n",
    "    \"hedge_expiry_weeks\": 1,\n",
    "    \"exit_week\": 4\n",
    "}\n"
   ]
  },
  {
   "cell_type": "code",
   "execution_count": null,
   "id": "f2e73537",
   "metadata": {},
   "outputs": [],
   "source": [
    "\n",
    "# Placeholder for your strategy engine (you can import from uploaded files)\n",
    "from datetime import datetime\n",
    "import time\n",
    "\n",
    "def run_iron_condor():\n",
    "    print(\"Starting strategy loop...\")\n",
    "    while True:\n",
    "        try:\n",
    "            # Add actual strategy logic here\n",
    "            print(\"Running strategy check at\", datetime.now())\n",
    "            time.sleep(60)  # Run every 60 seconds\n",
    "        except Exception as e:\n",
    "            print(\"Error:\", e)\n"
   ]
  },
  {
   "cell_type": "code",
   "execution_count": null,
   "id": "7a1ec284",
   "metadata": {},
   "outputs": [],
   "source": [
    "\n",
    "# Streamlit app integrated in notebook\n",
    "streamlit_code = '''\n",
    "import streamlit as st\n",
    "import pandas as pd\n",
    "import datetime\n",
    "\n",
    "st.title(\"Iron Condor Strategy Dashboard\")\n",
    "\n",
    "st.sidebar.header(\"Parameters\")\n",
    "investment = st.sidebar.number_input(\"Investment Amount\", value=200000)\n",
    "lot_value = st.sidebar.number_input(\"Lot Value\", value=150000)\n",
    "sell_leg_percent = st.sidebar.slider(\"Sell Leg Premium %\", 1.0, 5.0, 2.5)\n",
    "stoploss_percent = st.sidebar.slider(\"Stop Loss %\", 0.1, 1.0, 0.9)\n",
    "trigger_drop = st.sidebar.slider(\"Trigger Drop %\", 0.5, 1.0, 0.75)\n",
    "martingale_mult = st.sidebar.slider(\"Martingale Trigger\", 1.0, 3.0, 2.0)\n",
    "\n",
    "st.write(\"### Strategy Monitoring\")\n",
    "st.success(\"Strategy is running...\")  # Connect to live status\n",
    "\n",
    "st.write(\"### Placeholder for Live Positions\")\n",
    "st.dataframe(pd.DataFrame({\n",
    "    \"Symbol\": [\"NIFTY\"],\n",
    "    \"Strike\": [20000],\n",
    "    \"Type\": [\"CE\"],\n",
    "    \"Qty\": [75],\n",
    "    \"Premium\": [50],\n",
    "    \"Status\": [\"OPEN\"]\n",
    "}))\n",
    "\n",
    "st.write(\"### Logs\")\n",
    "st.code(\"2025-05-20 10:30 - Sell order placed at 20500 CE for premium 50\")\n",
    "'''\n",
    "\n",
    "with open(\"app.py\", \"w\") as f:\n",
    "    f.write(streamlit_code)\n",
    "print(\"Use the following to launch dashboard:\")\n",
    "print(\"!streamlit run app.py\")\n"
   ]
  },
  {
   "cell_type": "code",
   "execution_count": null,
   "id": "f218385b",
   "metadata": {},
   "outputs": [],
   "source": [
    "\n",
    "# Start strategy\n",
    "# run_iron_condor()  # Uncomment to start running the infinite loop\n"
   ]
  }
 ],
 "metadata": {},
 "nbformat": 4,
 "nbformat_minor": 5
}
